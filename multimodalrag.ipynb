{
 "cells": [
  {
   "cell_type": "code",
   "execution_count": 11,
   "metadata": {
    "execution": {
     "iopub.execute_input": "2025-01-29T10:46:46.295697Z",
     "iopub.status.busy": "2025-01-29T10:46:46.295456Z",
     "iopub.status.idle": "2025-01-29T10:46:56.465186Z",
     "shell.execute_reply": "2025-01-29T10:46:56.464306Z",
     "shell.execute_reply.started": "2025-01-29T10:46:46.295675Z"
    },
    "trusted": true
   },
   "outputs": [],
   "source": [
    "import os\n",
    "import shutil\n",
    "\n",
    "import nltk\n",
    "from unstructured.partition.pdf import partition_pdf\n",
    "\n",
    "import PyPDF2\n",
    "import google.generativeai as genai\n",
    "\n",
    "import chromadb\n",
    "from IPython.display import Markdown\n",
    "from dotenv import load_dotenv"
   ]
  },
  {
   "cell_type": "code",
   "execution_count": null,
   "metadata": {},
   "outputs": [],
   "source": [
    "load_dotenv()"
   ]
  },
  {
   "cell_type": "code",
   "execution_count": null,
   "metadata": {
    "execution": {
     "iopub.execute_input": "2025-01-29T10:46:56.467268Z",
     "iopub.status.busy": "2025-01-29T10:46:56.466836Z",
     "iopub.status.idle": "2025-01-29T10:46:56.487492Z",
     "shell.execute_reply": "2025-01-29T10:46:56.486707Z",
     "shell.execute_reply.started": "2025-01-29T10:46:56.467246Z"
    },
    "trusted": true
   },
   "outputs": [],
   "source": [
    "nltk.download('punkt_tab')\n",
    "nltk.download('averaged_perceptron_tagger_eng')"
   ]
  },
  {
   "cell_type": "code",
   "execution_count": 13,
   "metadata": {
    "execution": {
     "iopub.execute_input": "2025-01-29T10:46:56.488508Z",
     "iopub.status.busy": "2025-01-29T10:46:56.488264Z",
     "iopub.status.idle": "2025-01-29T10:46:56.491902Z",
     "shell.execute_reply": "2025-01-29T10:46:56.491133Z",
     "shell.execute_reply.started": "2025-01-29T10:46:56.488486Z"
    },
    "trusted": true
   },
   "outputs": [],
   "source": [
    "SAMPLE_PDF = \"test.pdf\""
   ]
  },
  {
   "cell_type": "code",
   "execution_count": 14,
   "metadata": {
    "execution": {
     "iopub.execute_input": "2025-01-29T10:46:56.493020Z",
     "iopub.status.busy": "2025-01-29T10:46:56.492755Z",
     "iopub.status.idle": "2025-01-29T10:46:56.504593Z",
     "shell.execute_reply": "2025-01-29T10:46:56.503802Z",
     "shell.execute_reply.started": "2025-01-29T10:46:56.492988Z"
    },
    "trusted": true
   },
   "outputs": [],
   "source": [
    "GEMINI_API_KEY=os.getenv('GEMINI_API_KEY')\n",
    "genai.configure(api_key=GEMINI_API_KEY)"
   ]
  },
  {
   "cell_type": "code",
   "execution_count": 95,
   "metadata": {
    "execution": {
     "iopub.execute_input": "2025-01-29T11:41:10.032327Z",
     "iopub.status.busy": "2025-01-29T11:41:10.031942Z",
     "iopub.status.idle": "2025-01-29T11:41:10.037376Z",
     "shell.execute_reply": "2025-01-29T11:41:10.036509Z",
     "shell.execute_reply.started": "2025-01-29T11:41:10.032296Z"
    },
    "trusted": true
   },
   "outputs": [],
   "source": [
    "generation_config = {\n",
    "        \"temperature\": 0.7,\n",
    "        \"top_p\": 0.95,\n",
    "        \"top_k\": 40,\n",
    "        \"max_output_tokens\": 8192,\n",
    "        \"response_mime_type\": \"text/plain\",\n",
    "    }\n",
    "\n",
    "RAG_SYSTEM_PROMPT = \"\"\"You are a helpful assistant. You will receive a context and a question. Your task is to generate a complete answer based only on the provided context.\n",
    "\n",
    "The context may contain image references in the format:\n",
    "![image-description-here](image-path-here)\n",
    "When generating your response, you must properly format images in Markdown like this:\n",
    "![image-description-here](image-path-here)\n",
    "\n",
    "Your response must be in Markdown to ensure images display correctly.\n",
    "\n",
    "If the context does not have enough information to answer the question, respond with:\n",
    "\"The given documents do not contain the required information.\"\n",
    "\n",
    "Examples:\n",
    "Example 1:\n",
    "Context:\n",
    "\"The Eiffel Tower is a famous landmark in Paris. ![A beautiful view of the Eiffel Tower](eiffel.jpg).\"\n",
    "\n",
    "Question:\n",
    "\"Where is the Eiffel Tower located?\"\n",
    "\n",
    "Response:\n",
    "\"![A beautiful view of the Eiffel Tower](eiffel.jpg) \\n\\nThe Eiffel Tower is located in Paris.\"\n",
    "\n",
    "Example 2:\n",
    "Context:\n",
    "\"Mars is known as the Red Planet due to its reddish appearance.\"\n",
    "\n",
    "Question:\n",
    "\"What color is Mars?\"\n",
    "\n",
    "Response:\n",
    "\"Mars is known as the Red Planet due to its reddish appearance.\"\n",
    "\n",
    "Example 3:\n",
    "Context:\n",
    "\"An ear, nose, and throat doctor (ENT) specializes in everything having to do with those parts of the body.\"\n",
    "\n",
    "Question:\n",
    "\"Who discovered gravity?\"\n",
    "\n",
    "Response:\n",
    "\"The given documents do not contain the required information.\"\n",
    "\"\"\"\n",
    "\n",
    "rag_model = genai.GenerativeModel(\n",
    "  model_name=\"gemini-2.0-flash-exp\",\n",
    "  generation_config=generation_config,\n",
    "  system_instruction=RAG_SYSTEM_PROMPT,\n",
    ")\n",
    "\n",
    "image_model = genai.GenerativeModel(\n",
    "  model_name=\"gemini-2.0-flash-exp\",\n",
    "  generation_config=generation_config,\n",
    "  system_instruction=\"Given an image, you need to generate a summary that describes the image precisely. You need to ensure all details are covered and the summary is concise and clear.\",\n",
    ")"
   ]
  },
  {
   "cell_type": "code",
   "execution_count": 16,
   "metadata": {
    "execution": {
     "iopub.execute_input": "2025-01-29T10:46:56.518603Z",
     "iopub.status.busy": "2025-01-29T10:46:56.518313Z",
     "iopub.status.idle": "2025-01-29T10:46:56.678123Z",
     "shell.execute_reply": "2025-01-29T10:46:56.677278Z",
     "shell.execute_reply.started": "2025-01-29T10:46:56.518575Z"
    },
    "trusted": true
   },
   "outputs": [],
   "source": [
    "client = chromadb.PersistentClient(path=\"./chroma_db\")"
   ]
  },
  {
   "cell_type": "code",
   "execution_count": 17,
   "metadata": {
    "execution": {
     "iopub.execute_input": "2025-01-29T10:46:56.679100Z",
     "iopub.status.busy": "2025-01-29T10:46:56.678897Z",
     "iopub.status.idle": "2025-01-29T10:46:56.683584Z",
     "shell.execute_reply": "2025-01-29T10:46:56.682813Z",
     "shell.execute_reply.started": "2025-01-29T10:46:56.679081Z"
    },
    "trusted": true
   },
   "outputs": [],
   "source": [
    "def upload_to_gemini(path, mime_type=None):\n",
    "        \"\"\"Uploads the given file to Gemini.\"\"\"\n",
    "        file = genai.upload_file(path, mime_type=mime_type)\n",
    "        return file\n",
    "    \n",
    "def analyze_image(image_path):\n",
    "    \"\"\"Analyzes the given image and returns a detailed summary.\"\"\"\n",
    "\n",
    "    file = upload_to_gemini(image_path, mime_type=\"image/jpeg\")\n",
    "\n",
    "    chat_session = image_model.start_chat(\n",
    "        history=[{\n",
    "            \"role\": \"user\",\n",
    "            \"parts\": [file],\n",
    "        }]\n",
    "    )\n",
    "\n",
    "    response = chat_session.send_message(\"Analyze the provided image and generate a concise, detailed summary that captures the key elements and context.\")\n",
    "    return response.text"
   ]
  },
  {
   "cell_type": "code",
   "execution_count": null,
   "metadata": {
    "execution": {
     "iopub.execute_input": "2025-01-29T10:46:56.684647Z",
     "iopub.status.busy": "2025-01-29T10:46:56.684285Z",
     "iopub.status.idle": "2025-01-29T10:47:27.624170Z",
     "shell.execute_reply": "2025-01-29T10:47:27.623217Z",
     "shell.execute_reply.started": "2025-01-29T10:46:56.684611Z"
    },
    "trusted": true
   },
   "outputs": [],
   "source": [
    "parsed_pdf = partition_pdf(SAMPLE_PDF,\n",
    "                           extract_images_in_pdf=True,\n",
    "                           infer_table_structure=True,\n",
    "                           max_characters=4000,\n",
    "                           new_after_n_chars=3800,\n",
    "                           combine_text_under_n_chars=2000\n",
    "                          )"
   ]
  },
  {
   "cell_type": "code",
   "execution_count": 19,
   "metadata": {
    "execution": {
     "iopub.execute_input": "2025-01-29T10:47:27.625459Z",
     "iopub.status.busy": "2025-01-29T10:47:27.625139Z",
     "iopub.status.idle": "2025-01-29T10:47:36.496958Z",
     "shell.execute_reply": "2025-01-29T10:47:36.496239Z",
     "shell.execute_reply.started": "2025-01-29T10:47:27.625413Z"
    },
    "trusted": true
   },
   "outputs": [],
   "source": [
    "# Images in the pdf are replaced with their description generated by gemini\n",
    "data_to_embed = []\n",
    "\n",
    "for parsed_object in parsed_pdf:\n",
    "  parsed_object = parsed_object.to_dict()\n",
    "\n",
    "  if parsed_object['type'] != \"Image\":\n",
    "    data_to_embed.append(parsed_object)\n",
    "    continue\n",
    "\n",
    "  image_path = parsed_object['metadata']['image_path']\n",
    "  image_summary = analyze_image(image_path)\n",
    "\n",
    "  parsed_object['image_summary'] = image_summary\n",
    "  data_to_embed.append(parsed_object)"
   ]
  },
  {
   "cell_type": "code",
   "execution_count": 20,
   "metadata": {
    "execution": {
     "iopub.execute_input": "2025-01-29T10:47:36.498086Z",
     "iopub.status.busy": "2025-01-29T10:47:36.497834Z",
     "iopub.status.idle": "2025-01-29T10:47:36.502533Z",
     "shell.execute_reply": "2025-01-29T10:47:36.501862Z",
     "shell.execute_reply.started": "2025-01-29T10:47:36.498064Z"
    },
    "trusted": true
   },
   "outputs": [],
   "source": [
    "# We now group all the objects in the parsed pdf by page\n",
    "data_by_page = [[]]\n",
    "cur_page_number = 1\n",
    "\n",
    "for data in data_to_embed:\n",
    "  if data['type'] == 'Footer':\n",
    "    continue\n",
    "\n",
    "  if data['metadata']['page_number'] != cur_page_number:\n",
    "    cur_page_number += 1\n",
    "    data_by_page.append([])\n",
    "\n",
    "  data_by_page[-1].append(data)"
   ]
  },
  {
   "cell_type": "code",
   "execution_count": 81,
   "metadata": {
    "execution": {
     "iopub.execute_input": "2025-01-29T11:34:59.907148Z",
     "iopub.status.busy": "2025-01-29T11:34:59.906867Z",
     "iopub.status.idle": "2025-01-29T11:34:59.912360Z",
     "shell.execute_reply": "2025-01-29T11:34:59.911301Z",
     "shell.execute_reply.started": "2025-01-29T11:34:59.907126Z"
    },
    "trusted": true
   },
   "outputs": [],
   "source": [
    "# Here we concat all the text in one page into a single chunk for embedding\n",
    "chunks = []\n",
    "\n",
    "for page in data_by_page:\n",
    "  chunk_text = []\n",
    "  for data in page:\n",
    "    if data['type'] == \"Image\":\n",
    "      image_path = data['metadata']['image_path']\n",
    "      current_directory = os.getcwd()\n",
    "      relative_image_path = image_path.replace(current_directory, \".\")\n",
    "      # We add image path between <<<>>> to the chunk with image so that we replace it when the chunk is retrieved and we can display it\n",
    "      text = f\"![{data['image_summary']}]({relative_image_path})\"\n",
    "    else:\n",
    "      text = data['text']\n",
    "\n",
    "    chunk_text.append(text)\n",
    "\n",
    "  chunks.append(\"\\n\".join(chunk_text))"
   ]
  },
  {
   "cell_type": "code",
   "execution_count": 69,
   "metadata": {
    "execution": {
     "iopub.execute_input": "2025-01-29T11:30:51.644348Z",
     "iopub.status.busy": "2025-01-29T11:30:51.644036Z",
     "iopub.status.idle": "2025-01-29T11:30:51.648674Z",
     "shell.execute_reply": "2025-01-29T11:30:51.647620Z",
     "shell.execute_reply.started": "2025-01-29T11:30:51.644322Z"
    },
    "trusted": true
   },
   "outputs": [],
   "source": [
    "def get_query_embedding(query):\n",
    "    result = genai.embed_content(\n",
    "        model=\"models/text-embedding-004\",\n",
    "        content=query\n",
    "    )\n",
    "    return result['embedding']"
   ]
  },
  {
   "cell_type": "code",
   "execution_count": 70,
   "metadata": {
    "_kg_hide-output": true,
    "execution": {
     "iopub.execute_input": "2025-01-29T11:30:54.587885Z",
     "iopub.status.busy": "2025-01-29T11:30:54.587592Z",
     "iopub.status.idle": "2025-01-29T11:30:54.592887Z",
     "shell.execute_reply": "2025-01-29T11:30:54.592047Z",
     "shell.execute_reply.started": "2025-01-29T11:30:54.587863Z"
    },
    "trusted": true
   },
   "outputs": [],
   "source": [
    "def ingest_chunks(chunks, collection_name):\n",
    "  collection = client.get_or_create_collection(name=collection_name)\n",
    "\n",
    "  embeddings = [get_query_embedding(chunk) for chunk in chunks]\n",
    "  res = collection.add(\n",
    "    ids=[f\"doc_{i}\" for i in range(len(chunks))],\n",
    "    documents=chunks,\n",
    "    embeddings=embeddings,\n",
    "    metadatas=[{\"page_number\": index+1} for index in range(len(chunks))]\n",
    "  )\n",
    "\n",
    "  return res"
   ]
  },
  {
   "cell_type": "code",
   "execution_count": 71,
   "metadata": {
    "execution": {
     "iopub.execute_input": "2025-01-29T11:30:55.811516Z",
     "iopub.status.busy": "2025-01-29T11:30:55.811186Z",
     "iopub.status.idle": "2025-01-29T11:30:55.814982Z",
     "shell.execute_reply": "2025-01-29T11:30:55.814211Z",
     "shell.execute_reply.started": "2025-01-29T11:30:55.811490Z"
    },
    "trusted": true
   },
   "outputs": [],
   "source": [
    "CHROMA_COLLECTION_NAME = \"attention_sample\""
   ]
  },
  {
   "cell_type": "code",
   "execution_count": null,
   "metadata": {
    "execution": {
     "iopub.execute_input": "2025-01-29T11:44:39.982685Z",
     "iopub.status.busy": "2025-01-29T11:44:39.982339Z",
     "iopub.status.idle": "2025-01-29T11:44:39.989787Z",
     "shell.execute_reply": "2025-01-29T11:44:39.988858Z",
     "shell.execute_reply.started": "2025-01-29T11:44:39.982656Z"
    },
    "trusted": true
   },
   "outputs": [],
   "source": [
    "collections = client.list_collections()\n",
    "collections"
   ]
  },
  {
   "cell_type": "code",
   "execution_count": 83,
   "metadata": {
    "execution": {
     "iopub.execute_input": "2025-01-29T11:35:35.857589Z",
     "iopub.status.busy": "2025-01-29T11:35:35.857270Z",
     "iopub.status.idle": "2025-01-29T11:35:36.222871Z",
     "shell.execute_reply": "2025-01-29T11:35:36.222214Z",
     "shell.execute_reply.started": "2025-01-29T11:35:35.857565Z"
    },
    "trusted": true
   },
   "outputs": [],
   "source": [
    "ingest_chunks(chunks, CHROMA_COLLECTION_NAME)"
   ]
  },
  {
   "cell_type": "code",
   "execution_count": 84,
   "metadata": {
    "execution": {
     "iopub.execute_input": "2025-01-29T11:35:38.865268Z",
     "iopub.status.busy": "2025-01-29T11:35:38.864986Z",
     "iopub.status.idle": "2025-01-29T11:35:38.869979Z",
     "shell.execute_reply": "2025-01-29T11:35:38.869003Z",
     "shell.execute_reply.started": "2025-01-29T11:35:38.865246Z"
    },
    "trusted": true
   },
   "outputs": [],
   "source": [
    "def retrieve_similar_documents(collection_name, query_text, top_k=3):\n",
    "    collection = client.get_collection(name=collection_name)\n",
    "\n",
    "    query_embedding = get_query_embedding(query_text)\n",
    "    \n",
    "    results = collection.query(\n",
    "        query_embeddings=[query_embedding],\n",
    "        n_results=top_k\n",
    "    )\n",
    "\n",
    "    response = []\n",
    "    for doc, score in zip(results['documents'][0], results['distances'][0]):\n",
    "        response.append(doc)\n",
    "\n",
    "    return response"
   ]
  },
  {
   "cell_type": "code",
   "execution_count": 85,
   "metadata": {
    "execution": {
     "iopub.execute_input": "2025-01-29T11:35:40.731331Z",
     "iopub.status.busy": "2025-01-29T11:35:40.730946Z",
     "iopub.status.idle": "2025-01-29T11:35:40.736137Z",
     "shell.execute_reply": "2025-01-29T11:35:40.735082Z",
     "shell.execute_reply.started": "2025-01-29T11:35:40.731300Z"
    },
    "trusted": true
   },
   "outputs": [],
   "source": [
    "def prompt_builder(context, question):\n",
    "    prompt = \"\"\"Find the context below:\n",
    "    \n",
    "    Context:\n",
    "    \n",
    "    {context}\n",
    "\n",
    "    Question: {question}\n",
    "    \"\"\".format(context=context, question=question)\n",
    "    \n",
    "    return prompt"
   ]
  },
  {
   "cell_type": "code",
   "execution_count": 90,
   "metadata": {
    "execution": {
     "iopub.execute_input": "2025-01-29T11:37:21.975642Z",
     "iopub.status.busy": "2025-01-29T11:37:21.975286Z",
     "iopub.status.idle": "2025-01-29T11:37:21.979735Z",
     "shell.execute_reply": "2025-01-29T11:37:21.978881Z",
     "shell.execute_reply.started": "2025-01-29T11:37:21.975613Z"
    },
    "trusted": true
   },
   "outputs": [],
   "source": [
    "def rag(question):\n",
    "    context = retrieve_similar_documents(CHROMA_COLLECTION_NAME, question)\n",
    "    chat_session = rag_model.start_chat()\n",
    "\n",
    "    prompt = prompt_builder(context, question)\n",
    "    response = chat_session.send_message(prompt)\n",
    "\n",
    "    return response"
   ]
  },
  {
   "cell_type": "code",
   "execution_count": 100,
   "metadata": {
    "execution": {
     "iopub.execute_input": "2025-01-29T11:42:12.968460Z",
     "iopub.status.busy": "2025-01-29T11:42:12.968125Z",
     "iopub.status.idle": "2025-01-29T11:42:16.684630Z",
     "shell.execute_reply": "2025-01-29T11:42:16.683838Z",
     "shell.execute_reply.started": "2025-01-29T11:42:12.968416Z"
    },
    "trusted": true
   },
   "outputs": [],
   "source": [
    "response = rag(\"Explain multihead attention\")"
   ]
  },
  {
   "cell_type": "code",
   "execution_count": null,
   "metadata": {
    "execution": {
     "iopub.execute_input": "2025-01-29T11:42:19.160364Z",
     "iopub.status.busy": "2025-01-29T11:42:19.160063Z",
     "iopub.status.idle": "2025-01-29T11:42:19.165854Z",
     "shell.execute_reply": "2025-01-29T11:42:19.165024Z",
     "shell.execute_reply.started": "2025-01-29T11:42:19.160341Z"
    },
    "trusted": true
   },
   "outputs": [],
   "source": [
    "Markdown(response.parts[0].text)"
   ]
  }
 ],
 "metadata": {
  "kaggle": {
   "accelerator": "nvidiaTeslaT4",
   "dataSources": [],
   "dockerImageVersionId": 30840,
   "isGpuEnabled": true,
   "isInternetEnabled": true,
   "language": "python",
   "sourceType": "notebook"
  },
  "kernelspec": {
   "display_name": "Python 3",
   "language": "python",
   "name": "python3"
  },
  "language_info": {
   "codemirror_mode": {
    "name": "ipython",
    "version": 3
   },
   "file_extension": ".py",
   "mimetype": "text/x-python",
   "name": "python",
   "nbconvert_exporter": "python",
   "pygments_lexer": "ipython3",
   "version": "3.10.12"
  }
 },
 "nbformat": 4,
 "nbformat_minor": 4
}
